{
  "nbformat": 4,
  "nbformat_minor": 0,
  "metadata": {
    "colab": {
      "provenance": [],
      "authorship_tag": "ABX9TyNXvEjQk/c108/N4YojqmJr",
      "include_colab_link": true
    },
    "kernelspec": {
      "name": "python3",
      "display_name": "Python 3"
    },
    "language_info": {
      "name": "python"
    }
  },
  "cells": [
    {
      "cell_type": "markdown",
      "metadata": {
        "id": "view-in-github",
        "colab_type": "text"
      },
      "source": [
        "<a href=\"https://colab.research.google.com/github/clem-mont-inha/Week10DB/blob/main/Week10DB.ipynb\" target=\"_parent\"><img src=\"https://colab.research.google.com/assets/colab-badge.svg\" alt=\"Open In Colab\"/></a>"
      ]
    },
    {
      "cell_type": "code",
      "execution_count": 12,
      "metadata": {
        "id": "7s77Pc8a52Nb"
      },
      "outputs": [],
      "source": [
        "import sqlite3\n",
        "import pandas as pd"
      ]
    },
    {
      "cell_type": "code",
      "source": [
        "conn = sqlite3.connect('lab_session.db')\n",
        "c = conn.cursor()"
      ],
      "metadata": {
        "id": "fZPrTwfW7fbH"
      },
      "execution_count": 13,
      "outputs": []
    },
    {
      "cell_type": "code",
      "source": [
        "commands = [\n",
        " \"\"\"\n",
        " CREATE TABLE Products (\n",
        " ProductID INTEGER PRIMARY KEY,\n",
        " ProductName TEXT,\n",
        " Price REAL\n",
        " );\n",
        " \"\"\",\n",
        " \"\"\"\n",
        " CREATE TABLE Customers (\n",
        " CustomerID INTEGER PRIMARY KEY,\n",
        " CustomerName TEXT,\n",
        " ContactNumber TEXT\n",
        " );\n",
        " \"\"\",\n",
        " \"\"\"\n",
        " CREATE TABLE Sales (\n",
        " SaleID INTEGER PRIMARY KEY,\n",
        " ProductID INTEGER,\n",
        " CustomerID INTEGER,\n",
        " SaleDate DATE,\n",
        " SaleAmount REAL,\n",
        " FOREIGN KEY (ProductID) REFERENCES Products(ProductID),\n",
        " FOREIGN KEY (CustomerID) REFERENCES Customers(CustomerID)\n",
        " );\n",
        " \"\"\",\n",
        " \"\"\"\n",
        " CREATE TABLE Inventories (\n",
        " InventoryID INTEGER PRIMARY KEY,\n",
        " ProductID INTEGER,\n",
        " StockQuantity INTEGER,\n",
        " FOREIGN KEY (ProductID) REFERENCES Products(ProductID)\n",
        " );\n",
        " \"\"\",\n",
        " \"\"\"\n",
        " CREATE TABLE Suppliers (\n",
        " SupplierID INTEGER PRIMARY KEY,\n",
        " SupplierName TEXT,\n",
        " ContactNumber TEXT\n",
        " );\n",
        " \"\"\"\n",
        "]\n",
        "\n",
        "for command in commands:\n",
        "  c.execute(command)"
      ],
      "metadata": {
        "id": "5D97lmFE7499"
      },
      "execution_count": 14,
      "outputs": []
    },
    {
      "cell_type": "code",
      "source": [
        "commands = [\n",
        " \"\"\"\n",
        " INSERT INTO Products (ProductName, Price)\n",
        " VALUES ('Product A', 20.0), ('Product B', 15.0), ('Product C',\n",
        "30.0);\n",
        " \"\"\",\n",
        " \"\"\"\n",
        " INSERT INTO Customers (CustomerName, ContactNumber)\n",
        " VALUES ('Customer 1', '1234567890'), ('Customer 2', '0987654321'),\n",
        "('Customer 3', '1122334455');\n",
        " \"\"\",\n",
        " \"\"\"\n",
        " INSERT INTO Sales (ProductID, CustomerID, SaleDate, SaleAmount)\n",
        " VALUES (1, 1, '2023-10-01', 40.0), (2, 2, '2023-10-02', 30.0), (3,\n",
        "3, '2023-10-03', 60.0);\n",
        " \"\"\",\n",
        " \"\"\"\n",
        " INSERT INTO Inventories (ProductID, StockQuantity)\n",
        " VALUES (1, 100), (2, 200), (3, 150);\n",
        " \"\"\",\n",
        " \"\"\"\n",
        " INSERT INTO Suppliers (SupplierName, ContactNumber)\n",
        " VALUES ('Supplier 1', '1112223333'), ('Supplier 2', '4445556666'),\n",
        "('Supplier 3', '7778889999');\n",
        " \"\"\"\n",
        "]\n",
        "\n",
        "for command in commands:\n",
        "  c.execute(command)\n",
        "\n",
        "conn.commit()"
      ],
      "metadata": {
        "id": "rpZvGdZS8Ebu"
      },
      "execution_count": 15,
      "outputs": []
    },
    {
      "cell_type": "code",
      "source": [
        "commands = [\n",
        " \"\"\"\n",
        " INSERT INTO Products (ProductName, Price)\n",
        " VALUES\n",
        " ('Product D', 25.0), ('Product E', 35.0), ('Product F', 28.0),\n",
        " ('Product G', 22.0), ('Product H', 19.0), ('Product I', 40.0),\n",
        " ('Product J', 29.0), ('Product K', 24.0), ('Product L', 33.0),\n",
        " ('Product M', 27.0);\n",
        " \"\"\",\n",
        " \"\"\"\n",
        " INSERT INTO Customers (CustomerName, ContactNumber)\n",
        " VALUES\n",
        " ('Customer 4', '2223334444'), ('Customer 5', '5556667777'),\n",
        "('Customer 6', '8889990000'),\n",
        " ('Customer 7', '1213141516'), ('Customer 8', '1718192021'),\n",
        "('Customer 9', '2223242526'),\n",
        " ('Customer 10', '2728293031'), ('Customer 11', '3233343536'),\n",
        "('Customer 12', '3738394041'),\n",
        " ('Customer 13', '4243444546');\n",
        " \"\"\",\n",
        " \"\"\"\n",
        " INSERT INTO Sales (ProductID, CustomerID, SaleDate, SaleAmount)\n",
        " VALUES\n",
        " (4, 4, '2023-10-04', 50.0), (5, 5, '2023-10-05', 70.0), (6, 6,\n",
        "'2023-10-06', 56.0),\n",
        " (7, 7, '2023-10-07', 44.0), (8, 8, '2023-10-08', 38.0), (9, 9,\n",
        "'2023-10-09', 80.0),\n",
        " (10, 10, '2023-10-10', 58.0), (11, 11, '2023-10-11', 48.0), (12,\n",
        "12, '2023-10-12', 66.0),\n",
        " (13, 13, '2023-10-13', 54.0);\n",
        " \"\"\",\n",
        " \"\"\"\n",
        " INSERT INTO Inventories (ProductID, StockQuantity)\n",
        " VALUES\n",
        " (4, 120), (5, 220), (6, 180),\n",
        " (7, 110), (8, 210), (9, 160),\n",
        " (10, 130), (11, 230), (12, 190),\n",
        " (13, 140);\n",
        " \"\"\",\n",
        " \"\"\"\n",
        " INSERT INTO Suppliers (SupplierName, ContactNumber)\n",
        " VALUES\n",
        " ('Supplier 4', '4546474849'), ('Supplier 5', '5051525354'),\n",
        "('Supplier 6', '5556575859'),\n",
        " ('Supplier 7', '6061626364'), ('Supplier 8', '6566676869'),\n",
        "('Supplier 9', '7071727374'),\n",
        " ('Supplier 10', '7576777879'), ('Supplier 11', '8081828384'),\n",
        "('Supplier 12', '8586878889'),\n",
        " ('Supplier 13', '9091929394');\n",
        " \"\"\"\n",
        "]\n",
        "\n",
        "for command in commands:\n",
        "  c.execute(command)\n",
        "\n",
        "conn.commit()"
      ],
      "metadata": {
        "id": "dz41ARpH8Q_P"
      },
      "execution_count": 16,
      "outputs": []
    },
    {
      "cell_type": "code",
      "source": [
        "running_total_query = \"\"\"\n",
        "SELECT\n",
        " ProductID,\n",
        " SaleDate,\n",
        " SaleAmount,\n",
        " SUM(SaleAmount) OVER (PARTITION BY ProductID ORDER BY SaleDate) AS\n",
        "RunningTotal\n",
        "FROM\n",
        " Sales;\n",
        "\"\"\"\n",
        "running_total_df = pd.read_sql_query(running_total_query, conn)\n",
        "print(running_total_df)"
      ],
      "metadata": {
        "colab": {
          "base_uri": "https://localhost:8080/"
        },
        "id": "TiWCY5uZ8X1t",
        "outputId": "66a61114-0fba-495a-da43-d9cefee01571"
      },
      "execution_count": 17,
      "outputs": [
        {
          "output_type": "stream",
          "name": "stdout",
          "text": [
            "    ProductID    SaleDate  SaleAmount  RunningTotal\n",
            "0           1  2023-10-01        40.0          40.0\n",
            "1           2  2023-10-02        30.0          30.0\n",
            "2           3  2023-10-03        60.0          60.0\n",
            "3           4  2023-10-04        50.0          50.0\n",
            "4           5  2023-10-05        70.0          70.0\n",
            "5           6  2023-10-06        56.0          56.0\n",
            "6           7  2023-10-07        44.0          44.0\n",
            "7           8  2023-10-08        38.0          38.0\n",
            "8           9  2023-10-09        80.0          80.0\n",
            "9          10  2023-10-10        58.0          58.0\n",
            "10         11  2023-10-11        48.0          48.0\n",
            "11         12  2023-10-12        66.0          66.0\n",
            "12         13  2023-10-13        54.0          54.0\n"
          ]
        }
      ]
    },
    {
      "cell_type": "code",
      "source": [
        "ranking_query = \"\"\"\n",
        "SELECT\n",
        " ProductID,\n",
        " SaleDate,\n",
        " SaleAmount,\n",
        " RANK() OVER (PARTITION BY ProductID ORDER BY SaleAmount DESC) AS\n",
        "Rank\n",
        "FROM\n",
        " Sales;\n",
        "\"\"\"\n",
        "ranking_df = pd.read_sql_query(ranking_query, conn)\n",
        "print(ranking_df)"
      ],
      "metadata": {
        "colab": {
          "base_uri": "https://localhost:8080/"
        },
        "id": "0bll_sxG8dWy",
        "outputId": "58b02866-03fa-440a-de29-2debfebae698"
      },
      "execution_count": 18,
      "outputs": [
        {
          "output_type": "stream",
          "name": "stdout",
          "text": [
            "    ProductID    SaleDate  SaleAmount  Rank\n",
            "0           1  2023-10-01        40.0     1\n",
            "1           2  2023-10-02        30.0     1\n",
            "2           3  2023-10-03        60.0     1\n",
            "3           4  2023-10-04        50.0     1\n",
            "4           5  2023-10-05        70.0     1\n",
            "5           6  2023-10-06        56.0     1\n",
            "6           7  2023-10-07        44.0     1\n",
            "7           8  2023-10-08        38.0     1\n",
            "8           9  2023-10-09        80.0     1\n",
            "9          10  2023-10-10        58.0     1\n",
            "10         11  2023-10-11        48.0     1\n",
            "11         12  2023-10-12        66.0     1\n",
            "12         13  2023-10-13        54.0     1\n"
          ]
        }
      ]
    },
    {
      "cell_type": "code",
      "source": [
        "cte_query = \"\"\"\n",
        "WITH TotalSales_CTE AS (\n",
        " SELECT\n",
        " ProductID,\n",
        " SUM(SaleAmount) AS TotalSales\n",
        " FROM\n",
        " Sales\n",
        " GROUP BY\n",
        " ProductID\n",
        ")\n",
        "SELECT\n",
        " ProductID,\n",
        " TotalSales\n",
        "FROM\n",
        " TotalSales_CTE\n",
        "WHERE\n",
        " TotalSales > 40;\n",
        "\"\"\"\n",
        "cte_df = pd.read_sql_query(cte_query, conn)\n",
        "print(cte_df)"
      ],
      "metadata": {
        "colab": {
          "base_uri": "https://localhost:8080/"
        },
        "id": "DbEO7GI38hiL",
        "outputId": "17bc372f-739d-4c65-b11c-6620437b0d68"
      },
      "execution_count": 19,
      "outputs": [
        {
          "output_type": "stream",
          "name": "stdout",
          "text": [
            "   ProductID  TotalSales\n",
            "0          3        60.0\n",
            "1          4        50.0\n",
            "2          5        70.0\n",
            "3          6        56.0\n",
            "4          7        44.0\n",
            "5          9        80.0\n",
            "6         10        58.0\n",
            "7         11        48.0\n",
            "8         12        66.0\n",
            "9         13        54.0\n"
          ]
        }
      ]
    },
    {
      "cell_type": "code",
      "source": [
        "cte_query = \"\"\"\n",
        "WITH TotalSales_CTE AS (\n",
        " SELECT\n",
        " ProductID,\n",
        " SUM(SaleAmount) AS TotalSales\n",
        " FROM\n",
        " Sales\n",
        " GROUP BY\n",
        " ProductID\n",
        ")\n",
        "SELECT\n",
        " ProductID,\n",
        " TotalSales\n",
        "FROM\n",
        " TotalSales_CTE\n",
        "WHERE\n",
        " TotalSales > 40;\n",
        "\"\"\"\n",
        "# Execute the CTE query and load the result into a Pandas DataFrame\n",
        "cte_df = pd.read_sql_query(cte_query, conn)\n",
        "print(cte_df)"
      ],
      "metadata": {
        "colab": {
          "base_uri": "https://localhost:8080/"
        },
        "id": "3pUUZBOg8rcL",
        "outputId": "6f6b81ca-f565-4a9d-8027-e6c33b05b504"
      },
      "execution_count": 20,
      "outputs": [
        {
          "output_type": "stream",
          "name": "stdout",
          "text": [
            "   ProductID  TotalSales\n",
            "0          3        60.0\n",
            "1          4        50.0\n",
            "2          5        70.0\n",
            "3          6        56.0\n",
            "4          7        44.0\n",
            "5          9        80.0\n",
            "6         10        58.0\n",
            "7         11        48.0\n",
            "8         12        66.0\n",
            "9         13        54.0\n"
          ]
        }
      ]
    },
    {
      "cell_type": "code",
      "source": [
        "conn.close()"
      ],
      "metadata": {
        "id": "1jTDk-xR8wrA"
      },
      "execution_count": 21,
      "outputs": []
    }
  ]
}